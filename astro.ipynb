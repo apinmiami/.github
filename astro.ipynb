{
  "nbformat": 4,
  "nbformat_minor": 0,
  "metadata": {
    "colab": {
      "provenance": [],
      "authorship_tag": "ABX9TyNmHm0yLb4Ff1xJ7yC4omzD",
      "include_colab_link": true
    },
    "kernelspec": {
      "name": "python3",
      "display_name": "Python 3"
    },
    "language_info": {
      "name": "python"
    }
  },
  "cells": [
    {
      "cell_type": "markdown",
      "metadata": {
        "id": "view-in-github",
        "colab_type": "text"
      },
      "source": [
        "<a href=\"https://colab.research.google.com/github/apinmiami/.github/blob/main/astro.ipynb\" target=\"_parent\"><img src=\"https://colab.research.google.com/assets/colab-badge.svg\" alt=\"Open In Colab\"/></a>"
      ]
    },
    {
      "cell_type": "code",
      "execution_count": null,
      "metadata": {
        "colab": {
          "base_uri": "https://localhost:8080/"
        },
        "id": "0R4tELmr-Rjj",
        "outputId": "c97d741f-43e0-41f6-b7be-a260ae882a2e"
      },
      "outputs": [
        {
          "output_type": "execute_result",
          "data": {
            "text/plain": [
              "(139232140427632, 139232140427632)"
            ]
          },
          "metadata": {},
          "execution_count": 6
        }
      ],
      "source": [
        "x=5\n",
        "y=5\n",
        "\n",
        "id(x), id(y)"
      ]
    },
    {
      "cell_type": "code",
      "source": [
        "sign=input(\"enter your Moon sign birth :-\")\n",
        "\n",
        "degree=float(input(\"enter the degree of moon star :-\"))\n",
        "\n",
        "degree=int(input(\"enter your degree :-\"))\n",
        "\n",
        "if sign == \"aries\":\n",
        "  print(\" you are aries\")\n",
        "\n",
        "  if degree <= 13.20:\n",
        "    print (\" you are aries\")\n",
        "\n",
        "  else:\n",
        "    print (\" you are from other sign\")\n",
        "else:\n",
        "  print(\"Bye\")\n"
      ],
      "metadata": {
        "id": "pw2xktDt-abd",
        "colab": {
          "base_uri": "https://localhost:8080/"
        },
        "outputId": "a0cb22c2-103f-4102-8e7e-e56d4d39a56f"
      },
      "execution_count": null,
      "outputs": [
        {
          "output_type": "stream",
          "name": "stdout",
          "text": [
            "enter your Moon sign birth :-\"aries\"\n",
            "enter the degree of moon star :-12.2\n",
            "enter your degree :-11\n",
            "Bye\n"
          ]
        }
      ]
    },
    {
      "cell_type": "code",
      "source": [],
      "metadata": {
        "id": "VePtB0LV5bqG"
      },
      "execution_count": null,
      "outputs": []
    }
  ]
}